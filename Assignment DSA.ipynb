{
 "cells": [
  {
   "cell_type": "code",
   "execution_count": 1,
   "id": "331f05c6-6fe9-4b67-a4e6-169a044c1f6e",
   "metadata": {},
   "outputs": [],
   "source": [
    "#Q1. How do you comment code in Python? What are the different types of comments?\n",
    "#IN Python Comments can be Done using '#' key\n",
    "#Diffrent types of Comments are Single-line Comments & Multi-line Comments"
   ]
  },
  {
   "cell_type": "code",
   "execution_count": 2,
   "id": "cbe06175-e25a-4d23-ba03-ed4eddaef24b",
   "metadata": {},
   "outputs": [
    {
     "data": {
      "text/plain": [
       "int"
      ]
     },
     "execution_count": 2,
     "metadata": {},
     "output_type": "execute_result"
    }
   ],
   "source": [
    "#Q2. What are variables in Python? How do you declare and assign values to variables?\n",
    "#Variables in Python is name given to a Value/Object/Pointer\n",
    "#variables can be decleared Directly in Python\n",
    "a=100\n",
    "type(a)"
   ]
  },
  {
   "cell_type": "code",
   "execution_count": 4,
   "id": "7ca7bad1-e538-44f5-acc3-620aa4cf93a3",
   "metadata": {},
   "outputs": [
    {
     "data": {
      "text/plain": [
       "str"
      ]
     },
     "execution_count": 4,
     "metadata": {},
     "output_type": "execute_result"
    }
   ],
   "source": [
    "a1='apple'\n",
    "type(a1)"
   ]
  },
  {
   "cell_type": "code",
   "execution_count": 10,
   "id": "a8b202f9-c651-47fe-838a-5b41b1f65801",
   "metadata": {},
   "outputs": [
    {
     "data": {
      "text/plain": [
       "'100'"
      ]
     },
     "execution_count": 10,
     "metadata": {},
     "output_type": "execute_result"
    }
   ],
   "source": [
    "#Q3. How do you convert one data type to another in Python?\n",
    "#One Data Type can be converted to another datatype by TypeCasting Method\n",
    "i=100\n",
    "str(i)"
   ]
  },
  {
   "cell_type": "code",
   "execution_count": 11,
   "id": "b76f4331-8af3-43dc-b312-2bb9edf0b6e1",
   "metadata": {},
   "outputs": [
    {
     "data": {
      "text/plain": [
       "10"
      ]
     },
     "execution_count": 11,
     "metadata": {},
     "output_type": "execute_result"
    }
   ],
   "source": [
    "j=10.5\n",
    "int(j)"
   ]
  },
  {
   "cell_type": "code",
   "execution_count": null,
   "id": "c0329b76-3b3e-4989-9524-1c27a54e394b",
   "metadata": {},
   "outputs": [],
   "source": [
    "#Q4. How do you write and execute a Python script from the command line?\n",
    "# In command line can be typed like this python first_script.py Hello World!"
   ]
  },
  {
   "cell_type": "code",
   "execution_count": 14,
   "id": "7c84bc0f-3b92-48fb-8562-e2706bd553af",
   "metadata": {},
   "outputs": [],
   "source": [
    "#Q5. Given a list my_list = [1, 2, 3, 4, 5], write the code to slice the list and obtain the sub-list [2, 3].\n",
    "#Slicing in list\n",
    "my_list = [1, 2, 3, 4, 5]\n",
    "a = my_list[1:3]"
   ]
  },
  {
   "cell_type": "code",
   "execution_count": 15,
   "id": "90b417aa-8356-455f-8394-071617c5ab27",
   "metadata": {},
   "outputs": [
    {
     "data": {
      "text/plain": [
       "[2, 3]"
      ]
     },
     "execution_count": 15,
     "metadata": {},
     "output_type": "execute_result"
    }
   ],
   "source": [
    "a"
   ]
  },
  {
   "cell_type": "code",
   "execution_count": 16,
   "id": "3e3228b0-afb4-40a4-8edc-85dfa15ac7ba",
   "metadata": {},
   "outputs": [
    {
     "data": {
      "text/plain": [
       "complex"
      ]
     },
     "execution_count": 16,
     "metadata": {},
     "output_type": "execute_result"
    }
   ],
   "source": [
    "#Q6.What is a complex number in mathematics, and how is it represented in Python?\n",
    "#the numbers that are expressed in the form of a+ib where, a,b are real numbers and 'i' is an imaginary number\n",
    "#IN python Complex Numbers can be represented as\n",
    "a=2+5j\n",
    "type(a)\n",
    "#Where 2 represents the real number and 5j represents imaginary number"
   ]
  },
  {
   "cell_type": "code",
   "execution_count": 18,
   "id": "de8166e9-91ae-4be1-8463-55b32c345c75",
   "metadata": {},
   "outputs": [],
   "source": [
    "#Q7. Correct way to declare a variable named age and assign the value 25\n",
    "age = int(25)"
   ]
  },
  {
   "cell_type": "code",
   "execution_count": 19,
   "id": "8d3eaa3b-cd18-4b62-ab13-6b070aa183f5",
   "metadata": {},
   "outputs": [
    {
     "name": "stdin",
     "output_type": "stream",
     "text": [
      "Enter Age: 25\n"
     ]
    }
   ],
   "source": [
    "age = int(input('Enter Age:'))"
   ]
  },
  {
   "cell_type": "code",
   "execution_count": 20,
   "id": "fd9f29f7-c751-41c4-8d5c-374e9ae2acf3",
   "metadata": {},
   "outputs": [
    {
     "name": "stdin",
     "output_type": "stream",
     "text": [
      "Enter Price: 9.99\n"
     ]
    }
   ],
   "source": [
    "#Q8. variable named price and assign the value 9.99\n",
    "price = float(input(\"Enter Price:\"))"
   ]
  },
  {
   "cell_type": "code",
   "execution_count": 21,
   "id": "87c36965-c4ab-4014-9b32-a79383e21712",
   "metadata": {},
   "outputs": [
    {
     "data": {
      "text/plain": [
       "float"
      ]
     },
     "execution_count": 21,
     "metadata": {},
     "output_type": "execute_result"
    }
   ],
   "source": [
    "type(price)"
   ]
  },
  {
   "cell_type": "code",
   "execution_count": 22,
   "id": "4365010c-f0e8-4876-9569-ab010c1e0d61",
   "metadata": {},
   "outputs": [
    {
     "data": {
      "text/plain": [
       "float"
      ]
     },
     "execution_count": 22,
     "metadata": {},
     "output_type": "execute_result"
    }
   ],
   "source": [
    "price1=9.99\n",
    "type(price1)"
   ]
  },
  {
   "cell_type": "code",
   "execution_count": 23,
   "id": "541f2b28-ec83-4ffa-a32d-1a1e47e2f990",
   "metadata": {},
   "outputs": [
    {
     "name": "stdin",
     "output_type": "stream",
     "text": [
      "Enter Name: Amarnath\n"
     ]
    },
    {
     "name": "stdout",
     "output_type": "stream",
     "text": [
      "Amarnath\n",
      "A m a r n a t h "
     ]
    }
   ],
   "source": [
    "#Q9. Create a variable named name and assign your full name to it as a string. How would you print the value of this variable?\n",
    "name = input(\"Enter Name:\")\n",
    "print(name)\n",
    "for i in name:\n",
    "    print(i,end = \" \")"
   ]
  },
  {
   "cell_type": "code",
   "execution_count": 26,
   "id": "2a37ae68-be94-4d33-8c47-bf1ba4505c77",
   "metadata": {},
   "outputs": [
    {
     "name": "stdout",
     "output_type": "stream",
     "text": [
      "World\n"
     ]
    }
   ],
   "source": [
    "#Q10. Given the string \"Hello, World!\", extract the substring \"World\".\n",
    "a = \"Hello, World!\"\n",
    "b = a[7:12]\n",
    "print(b)\n",
    "    "
   ]
  },
  {
   "cell_type": "code",
   "execution_count": 30,
   "id": "7f71a8e7-96db-46e4-8c50-6274c79c9de7",
   "metadata": {},
   "outputs": [
    {
     "name": "stdout",
     "output_type": "stream",
     "text": [
      "True\n"
     ]
    }
   ],
   "source": [
    "#Q11. Create a variable named \"is_student\" and assign it a boolean value indicating whether you are currently a student or not.\n",
    "is_student = True\n",
    "Amar = is_student\n",
    "print(Amar)"
   ]
  },
  {
   "cell_type": "code",
   "execution_count": null,
   "id": "3a6bc3cd-e948-4178-a099-391fe66842b7",
   "metadata": {},
   "outputs": [],
   "source": []
  },
  {
   "cell_type": "code",
   "execution_count": null,
   "id": "3a718b0b-c3e2-472b-98ed-886b00f716d2",
   "metadata": {},
   "outputs": [],
   "source": []
  },
  {
   "cell_type": "code",
   "execution_count": null,
   "id": "d06f2d38-8286-42de-b4f8-1a8584c0c2b9",
   "metadata": {},
   "outputs": [],
   "source": []
  },
  {
   "cell_type": "code",
   "execution_count": null,
   "id": "d12dbabd-6d2d-4566-91c1-633f272f0827",
   "metadata": {},
   "outputs": [],
   "source": []
  },
  {
   "cell_type": "code",
   "execution_count": null,
   "id": "ab1fd43f-5a82-44be-b6a5-0c2cb37911ad",
   "metadata": {},
   "outputs": [],
   "source": []
  },
  {
   "cell_type": "code",
   "execution_count": null,
   "id": "ebbe5ad8-f7f4-417e-8181-4acbc82db6fa",
   "metadata": {},
   "outputs": [],
   "source": []
  },
  {
   "cell_type": "code",
   "execution_count": null,
   "id": "f470908b-39f9-4ed1-b85e-97a9f73a99c7",
   "metadata": {},
   "outputs": [],
   "source": []
  },
  {
   "cell_type": "code",
   "execution_count": null,
   "id": "5b71b02d-f06b-40c2-ba98-044acd8d3b18",
   "metadata": {},
   "outputs": [],
   "source": []
  },
  {
   "cell_type": "code",
   "execution_count": null,
   "id": "6004e42c-4225-44d9-94b3-b8d2bc650eaa",
   "metadata": {},
   "outputs": [],
   "source": []
  },
  {
   "cell_type": "code",
   "execution_count": null,
   "id": "fa1201e1-d5ab-4ddc-9956-bee6fe4d3a6d",
   "metadata": {},
   "outputs": [],
   "source": []
  },
  {
   "cell_type": "code",
   "execution_count": null,
   "id": "473452a0-d214-4db2-9d2d-abc2e836a151",
   "metadata": {},
   "outputs": [],
   "source": []
  }
 ],
 "metadata": {
  "kernelspec": {
   "display_name": "Python 3 (ipykernel)",
   "language": "python",
   "name": "python3"
  },
  "language_info": {
   "codemirror_mode": {
    "name": "ipython",
    "version": 3
   },
   "file_extension": ".py",
   "mimetype": "text/x-python",
   "name": "python",
   "nbconvert_exporter": "python",
   "pygments_lexer": "ipython3",
   "version": "3.12.3"
  }
 },
 "nbformat": 4,
 "nbformat_minor": 5
}
